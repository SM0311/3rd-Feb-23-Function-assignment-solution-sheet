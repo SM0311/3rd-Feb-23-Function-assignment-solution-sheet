{
 "cells": [
  {
   "cell_type": "markdown",
   "id": "6b74b904-2e79-4213-ae30-8272135b5ae1",
   "metadata": {},
   "source": [
    "Q1. Which keyword is used to create a function? Create a function to return a list of odd numbers in the range of 1 to 25."
   ]
  },
  {
   "cell_type": "markdown",
   "id": "7f747f32-afc5-42a6-8f71-9b8b815dc090",
   "metadata": {},
   "source": [
    "Answer 1. The def keyword is used to create, (or define) a function.\n"
   ]
  },
  {
   "cell_type": "code",
   "execution_count": 3,
   "id": "33b3f936-b8a0-4020-8823-90d740d2306a",
   "metadata": {},
   "outputs": [],
   "source": [
    "def test1():\n",
    "    l = []\n",
    "    for num in range(1, 26):\n",
    "        if num % 2 != 0:\n",
    "            l.append(num)\n",
    "    return l"
   ]
  },
  {
   "cell_type": "code",
   "execution_count": 4,
   "id": "616d5fc0-f166-4bd4-a2b6-00b18aa8fe8a",
   "metadata": {},
   "outputs": [],
   "source": [
    "l = test1()"
   ]
  },
  {
   "cell_type": "code",
   "execution_count": 5,
   "id": "6dc6743b-772d-4025-bc7b-be51dd4d1702",
   "metadata": {},
   "outputs": [
    {
     "data": {
      "text/plain": [
       "[1, 3, 5, 7, 9, 11, 13, 15, 17, 19, 21, 23, 25]"
      ]
     },
     "execution_count": 5,
     "metadata": {},
     "output_type": "execute_result"
    }
   ],
   "source": [
    "l"
   ]
  },
  {
   "cell_type": "markdown",
   "id": "d7ad2039-5ccc-4f38-93d9-cd1a74df016e",
   "metadata": {},
   "source": [
    "Q2. Why *args and **kwargs is used in some functions? Create a function each for *args and **kwargs to demonstrate their use."
   ]
  },
  {
   "cell_type": "markdown",
   "id": "b4f26c5a-a199-423a-928d-031cb7bc4dc5",
   "metadata": {},
   "source": [
    "Answer 2 . *args and **kwargs are special syntax used in function definitions to allow a function to accept an arbitrary number of arguments."
   ]
  },
  {
   "cell_type": "code",
   "execution_count": 6,
   "id": "a686a66f-7fcf-451f-9d9f-b0dc04336509",
   "metadata": {},
   "outputs": [],
   "source": [
    "## *args\n",
    "def test1(*args):\n",
    "    return args"
   ]
  },
  {
   "cell_type": "code",
   "execution_count": 7,
   "id": "dc52272b-8f29-4d5c-98de-611a09f6b833",
   "metadata": {},
   "outputs": [
    {
     "data": {
      "text/plain": [
       "(2,)"
      ]
     },
     "execution_count": 7,
     "metadata": {},
     "output_type": "execute_result"
    }
   ],
   "source": [
    "test1(2)"
   ]
  },
  {
   "cell_type": "code",
   "execution_count": 8,
   "id": "d48fa89d-eaec-4c37-9076-0b2d073b11bc",
   "metadata": {},
   "outputs": [
    {
     "data": {
      "text/plain": [
       "(1, 2, 3, 4, 5)"
      ]
     },
     "execution_count": 8,
     "metadata": {},
     "output_type": "execute_result"
    }
   ],
   "source": [
    "test1(1,2,3,4,5)"
   ]
  },
  {
   "cell_type": "code",
   "execution_count": 9,
   "id": "e8c07b0c-0fdc-4ebf-8231-19bfaa3b208b",
   "metadata": {},
   "outputs": [
    {
     "data": {
      "text/plain": [
       "('Suraj', [1, 2, 3, 4, 5], (1, 2, 3, 4, 5))"
      ]
     },
     "execution_count": 9,
     "metadata": {},
     "output_type": "execute_result"
    }
   ],
   "source": [
    "test1(\"Suraj\", [1,2,3,4,5], (1,2,3,4,5)) "
   ]
  },
  {
   "cell_type": "code",
   "execution_count": 10,
   "id": "be74ff46-5937-4019-9615-a12bc81aeed0",
   "metadata": {},
   "outputs": [],
   "source": [
    "## **kwargs\n",
    "def test2(**kwargs):\n",
    "    return kwargs"
   ]
  },
  {
   "cell_type": "code",
   "execution_count": 11,
   "id": "cf796b22-e61d-4760-85e3-25c8fd162398",
   "metadata": {},
   "outputs": [
    {
     "data": {
      "text/plain": [
       "{'a': 34, 'b': 23, 'c': [1, 2, 3, 4], 'd': ('Suraj', 'pwskills')}"
      ]
     },
     "execution_count": 11,
     "metadata": {},
     "output_type": "execute_result"
    }
   ],
   "source": [
    "test2(a = 34, b = 23, c = [1,2,3,4], d = (\"Suraj\" , \"pwskills\"))"
   ]
  },
  {
   "cell_type": "markdown",
   "id": "83fc50e4-809a-4945-a209-2b00fbeb06a8",
   "metadata": {},
   "source": [
    "Q3. What is an iterator in python? Name the method used to initialise the iterator object and the method used for iteration. Use these methods to print the first five elements of the given list [2, 4, 6, 8, 10, 12, 14, 16, 18, 20]."
   ]
  },
  {
   "cell_type": "markdown",
   "id": "fae4e2ab-be85-4970-958f-9c6b9925cbff",
   "metadata": {},
   "source": [
    "Answer 3. An iterator is an object that contains a countable number of values. An iterator is an object that can be iterated upon, meaning that you can traverse through all the values. Technically, in Python, an iterator is an object which implements the iterator protocol, which consist of the methods __iter__() and __next__()."
   ]
  },
  {
   "cell_type": "code",
   "execution_count": 12,
   "id": "9ae5e789-8750-4924-b827-c905d1cd802e",
   "metadata": {},
   "outputs": [
    {
     "name": "stdout",
     "output_type": "stream",
     "text": [
      "2\n",
      "4\n",
      "6\n",
      "8\n",
      "10\n"
     ]
    }
   ],
   "source": [
    "list = [2, 4, 6, 8, 10, 12, 14, 16, 18, 20]\n",
    "iterator = iter(list)\n",
    "for i in range(5):\n",
    "    element = next(iterator)\n",
    "    print(element)"
   ]
  },
  {
   "cell_type": "markdown",
   "id": "6b8b479e-7834-4abe-954c-86aae7d6ece9",
   "metadata": {},
   "source": [
    "Q4. What is a generator function in python? Why yield keyword is used? Give an example of a generator function."
   ]
  },
  {
   "cell_type": "markdown",
   "id": "491703f1-9708-4bd7-b608-cb7695359e57",
   "metadata": {},
   "source": [
    "Answer 4. Python Generator functions allow you to declare a function that behaves likes an iterator, allowing programmers to make an iterator in a fast, easy, and clean way. \n",
    "The yield keyword in Python controls the flow of a generator function. This is similar to a return statement used for returning values in Python\n",
    "\n",
    "Example -\n",
    "def test2(n):\n",
    "    for i in range(n):\n",
    "        yield i**2\n",
    "        \n",
    "g= test2(5)\n",
    "\n",
    "for num in g:\n",
    "    print(num)\n",
    "\n"
   ]
  },
  {
   "cell_type": "code",
   "execution_count": 13,
   "id": "9ee93f75-2354-4d6a-a584-153af6d89f32",
   "metadata": {},
   "outputs": [],
   "source": [
    "def test2(n):\n",
    "    for i in range(n):\n",
    "        yield i**2"
   ]
  },
  {
   "cell_type": "code",
   "execution_count": 14,
   "id": "6b9bc332-13f7-439f-866a-ccde37d03b76",
   "metadata": {},
   "outputs": [],
   "source": [
    "g = test2(5)"
   ]
  },
  {
   "cell_type": "code",
   "execution_count": 15,
   "id": "cf4d6b7c-6150-47f5-b9d5-151380532ec1",
   "metadata": {},
   "outputs": [
    {
     "name": "stdout",
     "output_type": "stream",
     "text": [
      "0\n",
      "1\n",
      "4\n",
      "9\n",
      "16\n"
     ]
    }
   ],
   "source": [
    "for num in g:\n",
    "    print(num)"
   ]
  },
  {
   "cell_type": "markdown",
   "id": "dba85f69-4179-4132-a302-b5bfe6572650",
   "metadata": {},
   "source": [
    "Q5. Create a generator function for prime numbers less than 1000. Use the next() method to print the\n",
    "first 20 prime numbers."
   ]
  },
  {
   "cell_type": "code",
   "execution_count": 16,
   "id": "dc8d1f9e-b5c8-412e-beb3-6b5c18b0af9f",
   "metadata": {},
   "outputs": [],
   "source": [
    "def prime_generator():\n",
    "    sieve = [True] * 1000\n",
    "    sieve[0] = sieve[1] = False\n",
    "    for i in range(2, int(1000 ** 0.5) + 1):\n",
    "        if sieve[i]:\n",
    "            for j in range(i * i, 1000, i):\n",
    "                sieve[j] = False\n",
    "    for i in range(2, 1000):\n",
    "        if sieve[i]:\n",
    "            yield i\n"
   ]
  },
  {
   "cell_type": "code",
   "execution_count": 17,
   "id": "d8749601-b512-4be9-a6c9-e8c1c1e9aaa6",
   "metadata": {},
   "outputs": [
    {
     "name": "stdout",
     "output_type": "stream",
     "text": [
      "2\n",
      "3\n",
      "5\n",
      "7\n",
      "11\n",
      "13\n",
      "17\n",
      "19\n",
      "23\n",
      "29\n",
      "31\n",
      "37\n",
      "41\n",
      "43\n",
      "47\n",
      "53\n",
      "59\n",
      "61\n",
      "67\n",
      "71\n"
     ]
    }
   ],
   "source": [
    "prime_gen = prime_generator()\n",
    "for i in range(20):\n",
    "    print(next(prime_gen))\n"
   ]
  }
 ],
 "metadata": {
  "kernelspec": {
   "display_name": "Python 3 (ipykernel)",
   "language": "python",
   "name": "python3"
  },
  "language_info": {
   "codemirror_mode": {
    "name": "ipython",
    "version": 3
   },
   "file_extension": ".py",
   "mimetype": "text/x-python",
   "name": "python",
   "nbconvert_exporter": "python",
   "pygments_lexer": "ipython3",
   "version": "3.10.8"
  }
 },
 "nbformat": 4,
 "nbformat_minor": 5
}
